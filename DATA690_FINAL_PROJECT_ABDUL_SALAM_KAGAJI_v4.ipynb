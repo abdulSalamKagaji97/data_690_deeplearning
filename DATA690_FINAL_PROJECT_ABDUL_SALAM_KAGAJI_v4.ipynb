{
  "nbformat": 4,
  "nbformat_minor": 0,
  "metadata": {
    "colab": {
      "provenance": [],
      "mount_file_id": "13fJEcfoPfFuoBBcRGUo0lC0EzNFGHLCC",
      "authorship_tag": "ABX9TyMxdC3RNseQh5afhRsrt7SD",
      "include_colab_link": true
    },
    "kernelspec": {
      "name": "python3",
      "display_name": "Python 3"
    },
    "language_info": {
      "name": "python"
    },
    "accelerator": "GPU",
    "gpuClass": "standard"
  },
  "cells": [
    {
      "cell_type": "markdown",
      "metadata": {
        "id": "view-in-github",
        "colab_type": "text"
      },
      "source": [
        "<a href=\"https://colab.research.google.com/github/abdulSalamKagaji97/data_690_deeplearning/blob/main/DATA690_FINAL_PROJECT_ABDUL_SALAM_KAGAJI_v4.ipynb\" target=\"_parent\"><img src=\"https://colab.research.google.com/assets/colab-badge.svg\" alt=\"Open In Colab\"/></a>"
      ]
    },
    {
      "cell_type": "code",
      "execution_count": 1,
      "metadata": {
        "colab": {
          "base_uri": "https://localhost:8080/"
        },
        "id": "5APwP2RyxIug",
        "outputId": "e25e3a77-2964-4b7e-f472-7aca44c6ffda"
      },
      "outputs": [
        {
          "output_type": "stream",
          "name": "stdout",
          "text": [
            "Mounted at /content/drive/\n"
          ]
        }
      ],
      "source": [
        "import zipfile\n",
        "from google.colab import drive\n",
        "import os\n",
        "\n",
        "drive.mount('/content/drive/')\n",
        "\n",
        "zip_ref = zipfile.ZipFile(\"/content/drive/MyDrive/data_690_deeplearning_project3_dataset/ECG_img_data.zip\", 'r')\n",
        "zip_ref.extractall(\"/content/\")\n",
        "zip_ref.close()"
      ]
    },
    {
      "cell_type": "code",
      "source": [
        "import numpy as np \n",
        "import pandas as pd \n",
        "import matplotlib.pyplot as plt\n",
        "import matplotlib.image as mpimg\n",
        "import seaborn as sns\n",
        "from PIL import Image\n",
        "from timeit import default_timer as timer\n",
        "\n",
        "import torchvision\n",
        "from torchvision import transforms, datasets, models\n",
        "\n",
        "import torch\n",
        "from torch import optim, cuda\n",
        "from torch.utils.data import DataLoader, sampler\n",
        "from torch.autograd import Variable\n",
        "\n",
        "import torch.nn as nn\n",
        "import torch.nn.functional as F\n",
        "\n",
        "from torch.nn import Linear, ReLU, CrossEntropyLoss, Sequential, Conv2d, MaxPool2d\n",
        "from torch.nn import Module, Softmax, BatchNorm2d, Dropout\n",
        "\n",
        "import gc\n",
        "import os\n",
        "from os import walk\n",
        "import glob\n",
        "import cv2\n",
        "from sklearn.metrics import confusion_matrix\n",
        "\n",
        "from IPython.core.interactiveshell import InteractiveShell\n",
        "import warnings\n",
        "warnings.filterwarnings('ignore', category=FutureWarning)\n",
        "InteractiveShell.ast_node_interactivity = 'all'"
      ],
      "metadata": {
        "id": "wyRQ7B3GxnA5"
      },
      "execution_count": 2,
      "outputs": []
    },
    {
      "cell_type": "code",
      "source": [
        "data_path = \"/content/ECG_Image_data\"\n",
        "print(os.listdir(data_path))"
      ],
      "metadata": {
        "colab": {
          "base_uri": "https://localhost:8080/"
        },
        "id": "xPzjTtGP1uGq",
        "outputId": "12834c6c-279b-4b2d-ca1c-97447e31e19d"
      },
      "execution_count": 3,
      "outputs": [
        {
          "output_type": "stream",
          "name": "stdout",
          "text": [
            "['test', 'train']\n"
          ]
        }
      ]
    },
    {
      "cell_type": "code",
      "source": [],
      "metadata": {
        "id": "47u_4MKN1zMD"
      },
      "execution_count": 2,
      "outputs": []
    },
    {
      "cell_type": "code",
      "source": [
        "classes = ('S', 'V', 'Q', 'N', 'F')"
      ],
      "metadata": {
        "id": "wUA3kvAF3xHh"
      },
      "execution_count": 5,
      "outputs": []
    },
    {
      "cell_type": "code",
      "source": [
        "# create data transformers and train data loaders\n",
        "train_data_path        = data_path+'/train'\n",
        "transform         = transforms.Compose(\n",
        "                                       [transforms.Resize([120,120]), # resizing the image\n",
        "                                        transforms.Grayscale(),  # converting image to single gray channel\n",
        "                                        transforms.ToTensor(), # transforming image to a tensor\n",
        "                                        transforms.Normalize((0.5), (0.5)) # normalizing the tensor\n",
        "                                       ])\n",
        "  \n",
        "train_data_set    = datasets.ImageFolder(root=train_data_path, transform=transform)\n",
        "batch_size=32\n",
        "train_data_loader = DataLoader(train_data_set, batch_size=batch_size, shuffle=True)"
      ],
      "metadata": {
        "id": "n3Y91s5N5ZXX"
      },
      "execution_count": 4,
      "outputs": []
    },
    {
      "cell_type": "code",
      "source": [
        "# crating test data loaders\n",
        "test_data_path        = data_path+'/test'\n",
        "test_data_set    = datasets.ImageFolder(root=test_data_path, transform=transform)\n",
        "test_data_loader = DataLoader(test_data_set, batch_size=batch_size, shuffle=True)"
      ],
      "metadata": {
        "id": "oUsQgTw35uAL"
      },
      "execution_count": 5,
      "outputs": []
    },
    {
      "cell_type": "code",
      "source": [
        "# CNN model\n",
        "\n",
        "class Convnet(nn.Module):\n",
        "    \n",
        "    def __init__(self):\n",
        "        \n",
        "        super(Convnet, self).__init__()\n",
        "\n",
        "        self.layer_1  = nn.Conv2d(in_channels=1, out_channels=8, kernel_size=3, stride=1, padding=1)\n",
        "        \n",
        "        self.relu1    = nn.ReLU(inplace=True)\n",
        "        \n",
        "        self.maxpool1 = MaxPool2d(kernel_size=2)\n",
        "        \n",
        "\n",
        "        self.layer_2  = nn.Conv2d(in_channels=8, out_channels=16, kernel_size=3, stride=1, padding=1)\n",
        "        \n",
        "        self.relu2    = nn.ReLU(inplace=True)\n",
        "\n",
        "\n",
        "        self.layer_3  = nn.Conv2d(in_channels=16, out_channels=32, kernel_size=3, stride=1, padding=1)\n",
        "        \n",
        "        self.relu3    = nn.ReLU(inplace=True)\n",
        "\n",
        "        \n",
        "        self.drop_out = nn.Dropout()\n",
        "        \n",
        "        \n",
        "        # out_channels = 4, number of classes = 5\n",
        "        \n",
        "        # image width = 120, image height = 120 after two maxpooling 120 -> 60 -> 30\n",
        "        \n",
        "        self.fc1 = nn.Linear(32 * 60 * 60, 5)\n",
        "        \n",
        "    # Defining the forward pass\n",
        "\n",
        "    def forward(self, x):\n",
        "        \n",
        "        out = self.layer_1(x)\n",
        "        \n",
        "        out = self.relu1(out)\n",
        "        \n",
        "        out = self.maxpool1(out)\n",
        "        \n",
        "        \n",
        "        out = self.layer_2(out)\n",
        "        \n",
        "        out = self.relu2(out)\n",
        "        \n",
        "        # out = self.maxpool2(out)\n",
        "\n",
        "        out = self.layer_3(out)\n",
        "        \n",
        "        out = self.relu3(out)\n",
        "        \n",
        "        # out = self.maxpool3(out)\n",
        "        \n",
        "        \n",
        "        out = out.reshape(out.size(0), -1)\n",
        "        \n",
        "        out = self.drop_out(out)\n",
        "        \n",
        "        out = self.fc1(out)\n",
        "        \n",
        "        return out\n",
        "    \n",
        "# Define Model\n",
        "\n",
        "model = Convnet()\n",
        "\n",
        "print(model)"
      ],
      "metadata": {
        "colab": {
          "base_uri": "https://localhost:8080/"
        },
        "id": "PAz9BYt16BCC",
        "outputId": "9e4b9efd-c781-4c58-e87a-aaa8e0856964"
      },
      "execution_count": 6,
      "outputs": [
        {
          "output_type": "stream",
          "name": "stdout",
          "text": [
            "Convnet(\n",
            "  (layer_1): Conv2d(1, 8, kernel_size=(3, 3), stride=(1, 1), padding=(1, 1))\n",
            "  (relu1): ReLU(inplace=True)\n",
            "  (maxpool1): MaxPool2d(kernel_size=2, stride=2, padding=0, dilation=1, ceil_mode=False)\n",
            "  (layer_2): Conv2d(8, 16, kernel_size=(3, 3), stride=(1, 1), padding=(1, 1))\n",
            "  (relu2): ReLU(inplace=True)\n",
            "  (layer_3): Conv2d(16, 32, kernel_size=(3, 3), stride=(1, 1), padding=(1, 1))\n",
            "  (relu3): ReLU(inplace=True)\n",
            "  (drop_out): Dropout(p=0.5, inplace=False)\n",
            "  (fc1): Linear(in_features=115200, out_features=5, bias=True)\n",
            ")\n"
          ]
        }
      ]
    },
    {
      "cell_type": "code",
      "source": [
        "# Define Criterion\n",
        "\n",
        "criterion = nn.CrossEntropyLoss()\n",
        "\n",
        "# Define Optimizer\n",
        "\n",
        "optimizer = optim.SGD(model.parameters(), lr=0.001, momentum=0.9)"
      ],
      "metadata": {
        "id": "4A9QmL1u66N2"
      },
      "execution_count": 7,
      "outputs": []
    },
    {
      "cell_type": "code",
      "source": [
        "# Whether to train on a gpu and Number of gpus\n",
        "\n",
        "if cuda.is_available(): \n",
        "    \n",
        "    print(f'{cuda.device_count()} number of gpus are detected and available.')\n",
        "    \n",
        "else:\n",
        "        \n",
        "    print(f'Train on gpu is not available')\n",
        "        \n",
        "        "
      ],
      "metadata": {
        "colab": {
          "base_uri": "https://localhost:8080/"
        },
        "id": "6bq_sPq268wu",
        "outputId": "83ae2a35-6f2c-4891-a241-857eca01a024"
      },
      "execution_count": 8,
      "outputs": [
        {
          "output_type": "stream",
          "name": "stdout",
          "text": [
            "1 number of gpus are detected and available.\n"
          ]
        }
      ]
    },
    {
      "cell_type": "code",
      "source": [
        "# This part is working\n",
        "\n",
        "if torch.cuda.is_available():\n",
        "    \n",
        "    CNNMODEL = model.cuda()\n",
        "    CRITERION = criterion.cuda()\n",
        "    print(\"cuda\")\n",
        "    \n",
        "else:\n",
        "    \n",
        "    CNNMODEL = model\n",
        "    CRITERION = criterion\n",
        "    print(\"cpu\")\n",
        "\n",
        "# Train the model\n",
        "\n",
        "total_step = len(train_data_loader)\n",
        "loss_list = []\n",
        "accuracies_list = []\n",
        "num_epochs = 3\n",
        "classes = ['N', 'Q', 'S', 'V', 'F']\n",
        "device = torch.device(\"cuda:0\" if torch.cuda.is_available() else \"cpu\")\n",
        "classes_confusion_matrix = torch.zeros([num_epochs, 5, 5], dtype=torch.int32, device=device)\n",
        "\n",
        "for epoch in range(num_epochs):\n",
        "    \n",
        "    f1_scores=[0]*5\n",
        "    precisions_list=[0]*5\n",
        "    recalls_list=[0]*5\n",
        "    delta = 0.0000000000001 \n",
        "\n",
        "    confusion_matrix = torch.zeros([5, 5], dtype=torch.int32, device=device)\n",
        "    \n",
        "    for i, data in enumerate(train_data_loader):\n",
        "        \n",
        "        inputs, labels = data\n",
        "        inputs, labels = inputs.to(device), labels.to(device)\n",
        "        \n",
        "        # optimization\n",
        "        optimizer.zero_grad()\n",
        "        # Feed-Forward to get output\n",
        "        outputs = CNNMODEL(inputs)\n",
        "        labels = [x.item()-1 if x > 0 else x for x in labels]\n",
        "        labels = torch.tensor(labels)\n",
        "        labels =  labels.to(device)\n",
        "        loss = CRITERION(outputs, labels)\n",
        "        # Backward propagation\n",
        "        loss.backward()\n",
        "        # Updating parameters\n",
        "        optimizer.step()\n",
        "        loss_list.append(loss.item())\n",
        "        total_labels = labels.size(0)\n",
        "        \n",
        "        _, pred = torch.max(outputs.data, 1)\n",
        "        \n",
        "        correct_predictions = (pred == labels).sum().item()\n",
        "        accuracies_list.append(correct_predictions / total_labels)\n",
        "        \n",
        "        for element in range(total_labels):\n",
        "            confusion_matrix[pred[element].item()-1][labels[element].item()-1] += 1\n",
        "\n",
        "        # splitting dataset into minibatches\n",
        "        if (i + 1) % 500 == 0:\n",
        "            print(f'Epoch [{epoch+1}/{num_epochs}], mini-batch [{i+1}/{total_step}], Loss: {loss.item()}, Accuracy: {(correct_predictions / total_labels) * 100}%')\n",
        "    \n",
        "    classes_confusion_matrix[epoch] = confusion_matrix\n",
        "    \n",
        "\n",
        "    for i in range(torch.sum(confusion_matrix, dim=0).size(0)):\n",
        "        print(f'class name: {classes[i]}, total number of class: {torch.sum(confusion_matrix, dim=0)[i].item()}, Correctly predicted: {confusion_matrix[i][i].item()}')\n",
        "    \n",
        "print('Model training finished!')\n",
        "\n"
      ],
      "metadata": {
        "colab": {
          "base_uri": "https://localhost:8080/"
        },
        "id": "J8_xT6Nm6-lw",
        "outputId": "29d7d679-846e-4fa0-86a9-78137636a659"
      },
      "execution_count": 16,
      "outputs": [
        {
          "output_type": "stream",
          "name": "stdout",
          "text": [
            "cuda\n",
            "Epoch [1/3], mini-batch [500/3100], Loss: 0.19394569098949432, Accuracy: 96.875%\n",
            "Epoch [1/3], mini-batch [1000/3100], Loss: 0.10938515514135361, Accuracy: 96.875%\n",
            "Epoch [1/3], mini-batch [1500/3100], Loss: 0.00018290495791006833, Accuracy: 100.0%\n",
            "Epoch [1/3], mini-batch [2000/3100], Loss: 0.0030324154067784548, Accuracy: 100.0%\n",
            "Epoch [1/3], mini-batch [2500/3100], Loss: 0.013706105761229992, Accuracy: 100.0%\n",
            "Epoch [1/3], mini-batch [3000/3100], Loss: 0.026308389380574226, Accuracy: 96.875%\n",
            "class name: N, total number of class: 75709, Correctly predicted: 75704\n",
            "class name: Q, total number of class: 6431, Correctly predicted: 6427\n",
            "class name: S, total number of class: 2223, Correctly predicted: 2061\n",
            "class name: V, total number of class: 5789, Correctly predicted: 5648\n",
            "class name: F, total number of class: 9047, Correctly predicted: 9042\n",
            "Epoch [2/3], mini-batch [500/3100], Loss: 0.00023785025405231863, Accuracy: 100.0%\n",
            "Epoch [2/3], mini-batch [1000/3100], Loss: 0.0017283969791606069, Accuracy: 100.0%\n",
            "Epoch [2/3], mini-batch [1500/3100], Loss: 0.3260872960090637, Accuracy: 96.875%\n",
            "Epoch [2/3], mini-batch [2000/3100], Loss: 0.009356154128909111, Accuracy: 100.0%\n",
            "Epoch [2/3], mini-batch [2500/3100], Loss: 0.03621704876422882, Accuracy: 96.875%\n",
            "Epoch [2/3], mini-batch [3000/3100], Loss: 0.008747855201363564, Accuracy: 100.0%\n",
            "class name: N, total number of class: 75709, Correctly predicted: 75707\n",
            "class name: Q, total number of class: 6431, Correctly predicted: 6430\n",
            "class name: S, total number of class: 2223, Correctly predicted: 2076\n",
            "class name: V, total number of class: 5789, Correctly predicted: 5682\n",
            "class name: F, total number of class: 9047, Correctly predicted: 9041\n",
            "Epoch [3/3], mini-batch [500/3100], Loss: 0.00036023769644089043, Accuracy: 100.0%\n",
            "Epoch [3/3], mini-batch [1000/3100], Loss: 0.062068093568086624, Accuracy: 96.875%\n",
            "Epoch [3/3], mini-batch [1500/3100], Loss: 0.0009783655405044556, Accuracy: 100.0%\n",
            "Epoch [3/3], mini-batch [2000/3100], Loss: 0.13762174546718597, Accuracy: 96.875%\n",
            "Epoch [3/3], mini-batch [2500/3100], Loss: 0.0004833809216506779, Accuracy: 100.0%\n",
            "Epoch [3/3], mini-batch [3000/3100], Loss: 0.000903281441424042, Accuracy: 100.0%\n",
            "class name: N, total number of class: 75709, Correctly predicted: 75705\n",
            "class name: Q, total number of class: 6431, Correctly predicted: 6430\n",
            "class name: S, total number of class: 2223, Correctly predicted: 2092\n",
            "class name: V, total number of class: 5789, Correctly predicted: 5680\n",
            "class name: F, total number of class: 9047, Correctly predicted: 9045\n",
            "Model training finished!\n"
          ]
        }
      ]
    },
    {
      "cell_type": "code",
      "source": [
        "\n",
        "plt.figure(figsize = (12,7))\n",
        "sns.heatmap(classes_confusion_matrix.cpu().numpy()[-1], annot=True, xticklabels=classes, yticklabels=classes).set(title='Training results of CNN model')\n"
      ],
      "metadata": {
        "colab": {
          "base_uri": "https://localhost:8080/",
          "height": 462
        },
        "id": "zgXwEQVQGQLm",
        "outputId": "26c190dc-bc91-4301-9c56-325c9bb3c1b9"
      },
      "execution_count": 21,
      "outputs": [
        {
          "output_type": "execute_result",
          "data": {
            "text/plain": [
              "<Figure size 864x504 with 0 Axes>"
            ]
          },
          "metadata": {},
          "execution_count": 21
        },
        {
          "output_type": "execute_result",
          "data": {
            "text/plain": [
              "[Text(0.5, 1.0, 'Training results of CNN model')]"
            ]
          },
          "metadata": {},
          "execution_count": 21
        },
        {
          "output_type": "display_data",
          "data": {
            "text/plain": [
              "<Figure size 864x504 with 2 Axes>"
            ],
            "image/png": "[encoded data removed]"
          },
          "metadata": {
            "needs_background": "light"
          }
        }
      ]
    },
    {
      "cell_type": "code",
      "source": [
        "plt.figure(figsize = (12,7))\n",
        "plt.plot(loss_list);\n",
        "plt.title(\"Training Loss\")\n",
        "plt.figure(figsize = (12,7))\n",
        "plt.plot(accuracies_list)\n",
        "plt.title(\"Training Accuracy\")\n",
        "plt.show()"
      ],
      "metadata": {
        "colab": {
          "base_uri": "https://localhost:8080/",
          "height": 907
        },
        "id": "R62h1h_6_ABV",
        "outputId": "ecf25c67-3932-4251-f8ec-f074aca1edd5"
      },
      "execution_count": 28,
      "outputs": [
        {
          "output_type": "execute_result",
          "data": {
            "text/plain": [
              "<Figure size 864x504 with 0 Axes>"
            ]
          },
          "metadata": {},
          "execution_count": 28
        },
        {
          "output_type": "execute_result",
          "data": {
            "text/plain": [
              "[<matplotlib.lines.Line2D at 0x7f23a0b52a30>]"
            ]
          },
          "metadata": {},
          "execution_count": 28
        },
        {
          "output_type": "execute_result",
          "data": {
            "text/plain": [
              "Text(0.5, 1.0, 'Training Loss')"
            ]
          },
          "metadata": {},
          "execution_count": 28
        },
        {
          "output_type": "execute_result",
          "data": {
            "text/plain": [
              "<Figure size 864x504 with 0 Axes>"
            ]
          },
          "metadata": {},
          "execution_count": 28
        },
        {
          "output_type": "execute_result",
          "data": {
            "text/plain": [
              "[<matplotlib.lines.Line2D at 0x7f23a0b04c10>]"
            ]
          },
          "metadata": {},
          "execution_count": 28
        },
        {
          "output_type": "execute_result",
          "data": {
            "text/plain": [
              "Text(0.5, 1.0, 'Training Accuracy')"
            ]
          },
          "metadata": {},
          "execution_count": 28
        },
        {
          "output_type": "display_data",
          "data": {
            "text/plain": [
              "<Figure size 864x504 with 1 Axes>"
            ],
            "image/png": "[encoded data removed]"
          },
          "metadata": {
            "needs_background": "light"
          }
        },
        {
          "output_type": "display_data",
          "data": {
            "text/plain": [
              "<Figure size 864x504 with 1 Axes>"
            ],
            "image/png": "[encoded data removed]"
          },
          "metadata": {
            "needs_background": "light"
          }
        }
      ]
    },
    {
      "cell_type": "code",
      "source": [
        "test_confusion_matrix = torch.zeros([5, 5], dtype=torch.int32, device=device)\n",
        "\n",
        "with torch.no_grad():\n",
        "    \n",
        "    for data in test_data_loader:\n",
        "        \n",
        "        inputs, labels = data\n",
        "        inputs, labels = inputs.to(device), labels.to(device)\n",
        "        \n",
        "        labels = [x.item()-1 if x > 0 else x for x in labels]\n",
        "        labels = torch.tensor(labels)\n",
        "        labels =  labels.to(device)\n",
        "\n",
        "        outputs = CNNMODEL(inputs)\n",
        "        \n",
        "        _, pred = torch.max(outputs.data, 1)\n",
        "        \n",
        "        total = labels.size(0)\n",
        "\n",
        "        correct_predictions = (pred == labels).sum().item()\n",
        "        \n",
        "        for element in range(total):\n",
        "            test_confusion_matrix[pred[element].item()-1][labels[element].item()-1] += 1\n",
        "\n",
        "    print(test_confusion_matrix)"
      ],
      "metadata": {
        "colab": {
          "base_uri": "https://localhost:8080/"
        },
        "id": "y6jT8Anu7Eyc",
        "outputId": "6cedc91f-64d3-4202-d5b7-1240d0d5a67f"
      },
      "execution_count": 29,
      "outputs": [
        {
          "output_type": "stream",
          "name": "stdout",
          "text": [
            "tensor([[18922,     0,     0,     0,     0],\n",
            "        [    2,  1608,     0,     0,     0],\n",
            "        [    2,     0,   523,    31,     0],\n",
            "        [    0,     0,    32,  1415,     1],\n",
            "        [    0,     0,     1,     1,  2261]], device='cuda:0',\n",
            "       dtype=torch.int32)\n"
          ]
        }
      ]
    },
    {
      "cell_type": "code",
      "source": [
        "matrix_arr = test_confusion_matrix.cpu().numpy()\n",
        "for i,class_label in enumerate(classes):\n",
        "  print(f'Prediciton accuracy for class {class_label} : {(matrix_arr[i][i]*100)/sum(matrix_arr[i])}%')"
      ],
      "metadata": {
        "colab": {
          "base_uri": "https://localhost:8080/"
        },
        "id": "BHAUyvQpYELh",
        "outputId": "b51215bd-1c94-4268-f367-cd9b104bdf81"
      },
      "execution_count": 31,
      "outputs": [
        {
          "output_type": "stream",
          "name": "stdout",
          "text": [
            "Prediciton accuracy for class N : 100.0%\n",
            "Prediciton accuracy for class Q : 99.87577639751552%\n",
            "Prediciton accuracy for class S : 94.06474820143885%\n",
            "Prediciton accuracy for class V : 97.72099447513813%\n",
            "Prediciton accuracy for class F : 99.9116217410517%\n"
          ]
        }
      ]
    },
    {
      "cell_type": "code",
      "source": [
        "\n",
        "df_cm = pd.DataFrame(test_confusion_matrix.cpu().numpy())\n",
        "plt.figure(figsize = (12,7))\n",
        "sns.heatmap(df_cm, annot=True).set(title='Test results of CNN model')\n"
      ],
      "metadata": {
        "colab": {
          "base_uri": "https://localhost:8080/",
          "height": 462
        },
        "id": "96gPfmYdZDm8",
        "outputId": "17abf665-05b4-4cd1-c724-c0738ab0df7e"
      },
      "execution_count": 34,
      "outputs": [
        {
          "output_type": "execute_result",
          "data": {
            "text/plain": [
              "<Figure size 864x504 with 0 Axes>"
            ]
          },
          "metadata": {},
          "execution_count": 34
        },
        {
          "output_type": "execute_result",
          "data": {
            "text/plain": [
              "[Text(0.5, 1.0, 'Test results of CNN model')]"
            ]
          },
          "metadata": {},
          "execution_count": 34
        },
        {
          "output_type": "display_data",
          "data": {
            "text/plain": [
              "<Figure size 864x504 with 2 Axes>"
            ],
            "image/png": "[encoded data removed]"
          },
          "metadata": {
            "needs_background": "light"
          }
        }
      ]
    },
    {
      "cell_type": "code",
      "source": [],
      "metadata": {
        "id": "5FH4jDoWZYrU"
      },
      "execution_count": null,
      "outputs": []
    }
  ]
}